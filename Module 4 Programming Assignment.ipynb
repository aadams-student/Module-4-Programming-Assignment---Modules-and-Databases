{
 "cells": [
  {
   "cell_type": "code",
   "execution_count": 14,
   "id": "c2592fa3-dd8d-4a9f-8667-d32e861f1dd0",
   "metadata": {},
   "outputs": [
    {
     "name": "stdout",
     "output_type": "stream",
     "text": [
      "Open 9-5 daily\n"
     ]
    }
   ],
   "source": [
    "#11.1\n",
    "import zoo\n",
    "zoo.hours()"
   ]
  },
  {
   "cell_type": "code",
   "execution_count": 16,
   "id": "047fc906-16b8-40f3-a9e9-88c912751e19",
   "metadata": {},
   "outputs": [
    {
     "name": "stdout",
     "output_type": "stream",
     "text": [
      "Open 9-5 daily\n"
     ]
    }
   ],
   "source": [
    "#11.2\n",
    "import zoo as menagerie\n",
    "menagerie.hours()"
   ]
  },
  {
   "cell_type": "code",
   "execution_count": 33,
   "id": "5528219d-c123-4e30-90e8-35a110cd4398",
   "metadata": {},
   "outputs": [
    {
     "name": "stdout",
     "output_type": "stream",
     "text": [
      "Perdido Street Station\n",
      "Small Gods\n",
      "The Spellman Files\n",
      "The Weirdstone of Brisingamen\n",
      "Thud!\n"
     ]
    }
   ],
   "source": [
    "#16.8\n",
    "import sqlalchemy as sa\n",
    "eng = sa.create_engine('sqlite:///books.db')\n",
    "conn = eng.connect()\n",
    "\n",
    "metadata = sa.MetaData()\n",
    "books = sa.Table('books', metadata, \n",
    "              sa.Column('title', sa.String),\n",
    "              sa.Column('author', sa.String),\n",
    "              sa.Column('year', sa.Integer)\n",
    "              )\n",
    "\n",
    "stmt = sa.select(books.c.title).order_by(books.c.title)\n",
    "results = conn.execute(stmt)\n",
    "\n",
    "for row in results:\n",
    "    print(row.title)"
   ]
  },
  {
   "cell_type": "code",
   "execution_count": null,
   "id": "db504b2f-e2bf-4d8d-9029-78d191e9d33b",
   "metadata": {},
   "outputs": [],
   "source": []
  }
 ],
 "metadata": {
  "kernelspec": {
   "display_name": "Python [conda env:base] *",
   "language": "python",
   "name": "conda-base-py"
  },
  "language_info": {
   "codemirror_mode": {
    "name": "ipython",
    "version": 3
   },
   "file_extension": ".py",
   "mimetype": "text/x-python",
   "name": "python",
   "nbconvert_exporter": "python",
   "pygments_lexer": "ipython3",
   "version": "3.12.7"
  }
 },
 "nbformat": 4,
 "nbformat_minor": 5
}
